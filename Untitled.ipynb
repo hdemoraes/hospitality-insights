{
 "cells": [
  {
   "cell_type": "code",
   "execution_count": null,
   "id": "be9e27f4-651b-440d-b25e-31988ef339d4",
   "metadata": {},
   "outputs": [],
   "source": []
  }
 ],
 "metadata": {
  "kernelspec": {
   "display_name": "Hospitality Insights",
   "language": "python",
   "name": "hospitality-insights"
  },
  "language_info": {
   "codemirror_mode": {
    "name": "ipython",
    "version": 3
   },
   "file_extension": ".py",
   "mimetype": "text/x-python",
   "name": "python",
   "nbconvert_exporter": "python",
   "pygments_lexer": "ipython3",
   "version": "3.13.7"
  }
 },
 "nbformat": 4,
 "nbformat_minor": 5
}
