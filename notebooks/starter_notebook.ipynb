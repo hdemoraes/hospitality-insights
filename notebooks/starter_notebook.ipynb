{
 "cells": [
  {
   "cell_type": "markdown",
   "id": "552730e4-45e1-4141-82dc-157e3998ccd1",
   "metadata": {},
   "source": [
    "import sys, chromadb, google.generativeai, pandas, numpy\n",
    "print(\"✅ All imports successful.\")\n",
    "print(\"Python executable:\", sys.executable)\n"
   ]
  },
  {
   "cell_type": "code",
   "execution_count": null,
   "id": "3c132e09-91fe-440e-b6ba-d448f4c5cad4",
   "metadata": {},
   "outputs": [],
   "source": [
    "import pandas as pd\n",
    "\n",
    "data = {\n",
    "    \"Review\": [\"Great service\", \"Room was dirty\", \"Loved breakfast\", \"Too noisy at night\"],\n",
    "    \"Sentiment\": [\"Positive\", \"Negative\", \"Positive\", \"Negative\"]\n",
    "}\n",
    "df = pd.DataFrame(data)\n",
    "df\n"
   ]
  },
  {
   "cell_type": "code",
   "execution_count": null,
   "id": "6cbeff1e-8318-4711-ae8e-4ea103350c33",
   "metadata": {},
   "outputs": [],
   "source": [
    "from sentence_transformers import SentenceTransformer\n",
    "\n",
    "model = SentenceTransformer(\"all-MiniLM-L6-v2\")\n",
    "embeddings = model.encode(df[\"Review\"].tolist())\n",
    "print(\"✅ Embeddings created with shape:\", embeddings.shape)\n"
   ]
  }
 ],
 "metadata": {
  "kernelspec": {
   "display_name": "Hospitality Insights",
   "language": "python",
   "name": "hospitality-insights"
  },
  "language_info": {
   "codemirror_mode": {
    "name": "ipython",
    "version": 3
   },
   "file_extension": ".py",
   "mimetype": "text/x-python",
   "name": "python",
   "nbconvert_exporter": "python",
   "pygments_lexer": "ipython3",
   "version": "3.13.7"
  }
 },
 "nbformat": 4,
 "nbformat_minor": 5
}
